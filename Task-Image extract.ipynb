{
 "cells": [
  {
   "cell_type": "code",
   "execution_count": null,
   "id": "b0161f18",
   "metadata": {},
   "outputs": [],
   "source": [
    "import requests\n",
    "URL = \"https://wallpapers.com/cristiano-ronaldo\"\n",
    "getURL = requests.get(URL, headers={\"User-Agent\":\"Mozilla/5.0\"})\n",
    "print(getURL.status_code)"
   ]
  },
  {
   "cell_type": "code",
   "execution_count": null,
   "id": "43ea76bb",
   "metadata": {},
   "outputs": [],
   "source": [
    "from bs4 import BeautifulSoup\n",
    "soup = BeautifulSoup(getURL.text, 'html.parser')\n",
    "images = soup.find_all('img')\n",
    "print(images)"
   ]
  },
  {
   "cell_type": "code",
   "execution_count": null,
   "id": "89197cda",
   "metadata": {},
   "outputs": [],
   "source": [
    "imageSources = []\n",
    "for image in images:\n",
    "    imageSources.append(image.get('src'))\n",
    "print(imageSources)"
   ]
  },
  {
   "cell_type": "code",
   "execution_count": null,
   "id": "0f32b824",
   "metadata": {},
   "outputs": [],
   "source": [
    "for image in imageSources:\n",
    "    webs = requests.get(image)\n",
    "    open('images/'+ image.split('/')[-1], 'wb').write(webs.content)"
   ]
  }
 ],
 "metadata": {
  "kernelspec": {
   "display_name": "Python 3 (ipykernel)",
   "language": "python",
   "name": "python3"
  },
  "language_info": {
   "codemirror_mode": {
    "name": "ipython",
    "version": 3
   },
   "file_extension": ".py",
   "mimetype": "text/x-python",
   "name": "python",
   "nbconvert_exporter": "python",
   "pygments_lexer": "ipython3",
   "version": "3.9.12"
  }
 },
 "nbformat": 4,
 "nbformat_minor": 5
}
